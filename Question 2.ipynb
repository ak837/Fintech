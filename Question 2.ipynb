{
  "cells": [
    {
      "cell_type": "code",
      "execution_count": 4,
      "metadata": {
        "trusted": true
      },
      "outputs": [
        {
          "ename": "ModuleNotFoundError",
          "evalue": "No module named 'quandl'",
          "output_type": "error",
          "traceback": [
            "\u001b[0;31m---------------------------------------------------------------------------\u001b[0m",
            "\u001b[0;31mModuleNotFoundError\u001b[0m                       Traceback (most recent call last)",
            "\u001b[0;32m/var/folders/ct/kgcx75jd05321jk4sqzjj2900000gn/T/ipykernel_91746/205864074.py\u001b[0m in \u001b[0;36m<module>\u001b[0;34m\u001b[0m\n\u001b[1;32m      2\u001b[0m \u001b[0;32mimport\u001b[0m \u001b[0mpandas\u001b[0m \u001b[0;32mas\u001b[0m \u001b[0mpd\u001b[0m\u001b[0;34m\u001b[0m\u001b[0;34m\u001b[0m\u001b[0m\n\u001b[1;32m      3\u001b[0m \u001b[0;32mimport\u001b[0m \u001b[0mrequests\u001b[0m\u001b[0;34m\u001b[0m\u001b[0;34m\u001b[0m\u001b[0m\n\u001b[0;32m----> 4\u001b[0;31m \u001b[0;32mimport\u001b[0m \u001b[0mquandl\u001b[0m \u001b[0;32mas\u001b[0m \u001b[0mql\u001b[0m\u001b[0;34m\u001b[0m\u001b[0;34m\u001b[0m\u001b[0m\n\u001b[0m\u001b[1;32m      5\u001b[0m \u001b[0;32mfrom\u001b[0m \u001b[0mdatetime\u001b[0m \u001b[0;32mimport\u001b[0m \u001b[0mdatetime\u001b[0m\u001b[0;34m\u001b[0m\u001b[0;34m\u001b[0m\u001b[0m\n\u001b[1;32m      6\u001b[0m \u001b[0;32mimport\u001b[0m \u001b[0mmatplotlib\u001b[0m\u001b[0;34m.\u001b[0m\u001b[0mpyplot\u001b[0m \u001b[0;32mas\u001b[0m \u001b[0mplt\u001b[0m\u001b[0;34m\u001b[0m\u001b[0;34m\u001b[0m\u001b[0m\n",
            "\u001b[0;31mModuleNotFoundError\u001b[0m: No module named 'quandl'"
          ]
        }
      ],
      "source": [
        "import numpy as np\n",
        "import pandas as pd\n",
        "import requests\n",
        "import quandl as ql\n",
        "from datetime import datetime\n",
        "import matplotlib.pyplot as plt\n",
        "import statsmodels.formula.api as sm"
      ]
    },
    {
      "cell_type": "code",
      "execution_count": null,
      "metadata": {
        "trusted": true
      },
      "outputs": [
        {
          "ename": "<class 'NameError'>",
          "evalue": "name 'requests' is not defined",
          "output_type": "error",
          "traceback": [
            "\u001b[0;31m---------------------------------------------------------------------------\u001b[0m",
            "\u001b[0;31mNameError\u001b[0m                                 Traceback (most recent call last)",
            "Input \u001b[0;32mIn [2]\u001b[0m, in \u001b[0;36m<cell line: 3>\u001b[0;34m()\u001b[0m\n\u001b[1;32m      1\u001b[0m api_key \u001b[38;5;241m=\u001b[39m \u001b[38;5;124m'\u001b[39m\u001b[38;5;124mjNnWDGnTMrGUz5LriNqn\u001b[39m\u001b[38;5;124m'\u001b[39m\n\u001b[1;32m      2\u001b[0m apiurl \u001b[38;5;241m=\u001b[39m \u001b[38;5;124mf\u001b[39m\u001b[38;5;124m'\u001b[39m\u001b[38;5;124mhttps://demo.quandl.com/api/v3/datasets/OPEC/ORB.csv?api_key=\u001b[39m\u001b[38;5;132;01m{\u001b[39;00mapi_key\u001b[38;5;132;01m}\u001b[39;00m\u001b[38;5;124m'\u001b[39m\n\u001b[0;32m----> 3\u001b[0m ETH \u001b[38;5;241m=\u001b[39m \u001b[43mrequests\u001b[49m\u001b[38;5;241m.\u001b[39mget(apiurl)\u001b[38;5;241m.\u001b[39mjson()[\u001b[38;5;124m'\u001b[39m\u001b[38;5;124mData\u001b[39m\u001b[38;5;124m'\u001b[39m][\u001b[38;5;124m'\u001b[39m\u001b[38;5;124mData\u001b[39m\u001b[38;5;124m'\u001b[39m]\n\u001b[1;32m      4\u001b[0m Yt_1 \u001b[38;5;241m=\u001b[39m pd\u001b[38;5;241m.\u001b[39mDataFrame(ETH)[[\u001b[38;5;124m'\u001b[39m\u001b[38;5;124mtime\u001b[39m\u001b[38;5;124m'\u001b[39m, \u001b[38;5;124m'\u001b[39m\u001b[38;5;124mopen\u001b[39m\u001b[38;5;124m'\u001b[39m]]\u001b[38;5;241m.\u001b[39mset_index(\u001b[38;5;124m'\u001b[39m\u001b[38;5;124mtime\u001b[39m\u001b[38;5;124m'\u001b[39m)\n",
            "\u001b[0;31mNameError\u001b[0m: name 'requests' is not defined"
          ]
        }
      ],
      "source": [
        "api_key = 'jNnWDGnTMrGUz5LriNqn'\n",
        "apiurl = f'https://demo.quandl.com/api/v3/datasets/OPEC/ORB.csv?api_key={api_key}'\n",
        "ETH = requests.get(apiurl).json()['Data']['Data']\n",
        "Yt_1 = pd.DataFrame(ETH)[['time', 'open']].set_index('time')"
      ]
    },
    {
      "cell_type": "code",
      "execution_count": null,
      "metadata": {
        "trusted": true
      },
      "outputs": [
        {
          "ename": "<class 'NameError'>",
          "evalue": "name 'ETH' is not defined",
          "output_type": "error",
          "traceback": [
            "\u001b[0;31m---------------------------------------------------------------------------\u001b[0m",
            "\u001b[0;31mNameError\u001b[0m                                 Traceback (most recent call last)",
            "Input \u001b[0;32mIn [3]\u001b[0m, in \u001b[0;36m<cell line: 1>\u001b[0;34m()\u001b[0m\n\u001b[0;32m----> 1\u001b[0m ToTimeStamp \u001b[38;5;241m=\u001b[39m \u001b[43mETH\u001b[49m[\u001b[38;5;241m0\u001b[39m][\u001b[38;5;124m'\u001b[39m\u001b[38;5;124mtime\u001b[39m\u001b[38;5;124m'\u001b[39m]\n\u001b[1;32m      2\u001b[0m apiurl \u001b[38;5;241m=\u001b[39m \u001b[38;5;124mf\u001b[39m\u001b[38;5;124m'\u001b[39m\u001b[38;5;124mhttps://min-api.cryptocompare.com/data/v2/histoday?fsym=ETH&tsym=USD&limit=2000&toTs=\u001b[39m\u001b[38;5;132;01m{\u001b[39;00mToTimeStamp\u001b[38;5;132;01m}\u001b[39;00m\u001b[38;5;124m&api_key=\u001b[39m\u001b[38;5;132;01m{\u001b[39;00mapi_key\u001b[38;5;132;01m}\u001b[39;00m\u001b[38;5;124m'\u001b[39m\n\u001b[1;32m      3\u001b[0m ETH1 \u001b[38;5;241m=\u001b[39m requests\u001b[38;5;241m.\u001b[39mget(apiurl)\u001b[38;5;241m.\u001b[39mjson()[\u001b[38;5;124m'\u001b[39m\u001b[38;5;124mData\u001b[39m\u001b[38;5;124m'\u001b[39m][\u001b[38;5;124m'\u001b[39m\u001b[38;5;124mData\u001b[39m\u001b[38;5;124m'\u001b[39m]\n",
            "\u001b[0;31mNameError\u001b[0m: name 'ETH' is not defined"
          ]
        }
      ],
      "source": [
        "ToTimeStamp = ETH[0]['time']\n",
        "apiurl = f'https://min-api.cryptocompare.com/data/v2/histoday?fsym=ETH&tsym=USD&limit=2000&toTs={ToTimeStamp}&api_key={api_key}'\n",
        "ETH1 = requests.get(apiurl).json()['Data']['Data']\n",
        "Yt_2 = pd.DataFrame(ETH1)[['time', 'open']].set_index('time')"
      ]
    },
    {
      "cell_type": "code",
      "execution_count": null,
      "metadata": {
        "trusted": true
      },
      "outputs": [
        {
          "ename": "<class 'NameError'>",
          "evalue": "name 'ETH1' is not defined",
          "output_type": "error",
          "traceback": [
            "\u001b[0;31m---------------------------------------------------------------------------\u001b[0m",
            "\u001b[0;31mNameError\u001b[0m                                 Traceback (most recent call last)",
            "Input \u001b[0;32mIn [4]\u001b[0m, in \u001b[0;36m<cell line: 1>\u001b[0;34m()\u001b[0m\n\u001b[0;32m----> 1\u001b[0m ToTimeStamp \u001b[38;5;241m=\u001b[39m \u001b[43mETH1\u001b[49m[\u001b[38;5;241m0\u001b[39m][\u001b[38;5;124m'\u001b[39m\u001b[38;5;124mtime\u001b[39m\u001b[38;5;124m'\u001b[39m]\n\u001b[1;32m      2\u001b[0m apiurl \u001b[38;5;241m=\u001b[39m \u001b[38;5;124mf\u001b[39m\u001b[38;5;124m'\u001b[39m\u001b[38;5;124mhttps://min-api.cryptocompare.com/data/v2/histoday?fsym=ETH&tsym=USD&limit=2000&toTs=\u001b[39m\u001b[38;5;132;01m{\u001b[39;00mToTimeStamp\u001b[38;5;132;01m}\u001b[39;00m\u001b[38;5;124m&api_key=\u001b[39m\u001b[38;5;132;01m{\u001b[39;00mapi_key\u001b[38;5;132;01m}\u001b[39;00m\u001b[38;5;124m'\u001b[39m\n\u001b[1;32m      3\u001b[0m ETH2 \u001b[38;5;241m=\u001b[39m requests\u001b[38;5;241m.\u001b[39mget(apiurl)\u001b[38;5;241m.\u001b[39mjson()[\u001b[38;5;124m'\u001b[39m\u001b[38;5;124mData\u001b[39m\u001b[38;5;124m'\u001b[39m][\u001b[38;5;124m'\u001b[39m\u001b[38;5;124mData\u001b[39m\u001b[38;5;124m'\u001b[39m]\n",
            "\u001b[0;31mNameError\u001b[0m: name 'ETH1' is not defined"
          ]
        }
      ],
      "source": [
        "ToTimeStamp = ETH1[0]['time']\n",
        "apiurl = f'https://min-api.cryptocompare.com/data/v2/histoday?fsym=ETH&tsym=USD&limit=2000&toTs={ToTimeStamp}&api_key={api_key}'\n",
        "ETH2 = requests.get(apiurl).json()['Data']['Data']\n",
        "Yt_3 = pd.DataFrame(ETH2)[['time', 'open']].set_index('time')\n",
        "Yt_data = pd.concat([Yt_3,Yt_2,Yt_1])\n",
        "Yt_data.index = pd.to_datetime(Yt_data.index, unit = 's')\n",
        "Yt_data = Yt_data[ Yt_data.index > '2010-07-17'] \n",
        "Yt_data.reset_index(inplace=True)\n",
        "Yt_data.rename(columns ={'time':'Date'}, inplace='True')\n",
        "Yt_data.dtypes"
      ]
    },
    {
      "cell_type": "code",
      "execution_count": null,
      "metadata": {
        "trusted": true
      },
      "outputs": [
        {
          "ename": "<class 'NameError'>",
          "evalue": "name 'ql' is not defined",
          "output_type": "error",
          "traceback": [
            "\u001b[0;31m---------------------------------------------------------------------------\u001b[0m",
            "\u001b[0;31mNameError\u001b[0m                                 Traceback (most recent call last)",
            "Input \u001b[0;32mIn [5]\u001b[0m, in \u001b[0;36m<cell line: 1>\u001b[0;34m()\u001b[0m\n\u001b[0;32m----> 1\u001b[0m \u001b[43mql\u001b[49m\u001b[38;5;241m.\u001b[39mApiConfig\u001b[38;5;241m.\u001b[39mapi_key \u001b[38;5;241m=\u001b[39m \u001b[38;5;124m\"\u001b[39m\u001b[38;5;124mjNnWDGnTMrGUz5LriNqn\u001b[39m\u001b[38;5;124m\"\u001b[39m\n\u001b[1;32m      2\u001b[0m Xt \u001b[38;5;241m=\u001b[39m pd\u001b[38;5;241m.\u001b[39mDataFrame(ql\u001b[38;5;241m.\u001b[39mget(\u001b[38;5;124m\"\u001b[39m\u001b[38;5;124mMULTPL/SP500_REAL_PRICE_MONTH\u001b[39m\u001b[38;5;124m\"\u001b[39m))\n\u001b[1;32m      3\u001b[0m Xt \u001b[38;5;241m=\u001b[39m Xt[ Xt\u001b[38;5;241m.\u001b[39mindex \u001b[38;5;241m>\u001b[39m \u001b[38;5;124m'\u001b[39m\u001b[38;5;124m2010-07-17\u001b[39m\u001b[38;5;124m'\u001b[39m] \n",
            "\u001b[0;31mNameError\u001b[0m: name 'ql' is not defined"
          ]
        }
      ],
      "source": [
        "ql.ApiConfig.api_key = \"jNnWDGnTMrGUz5LriNqn\"\n",
        "Xt = pd.DataFrame(ql.get(\"MULTPL/SP500_REAL_PRICE_MONTH\"))\n",
        "Xt = Xt[ Xt.index > '2010-07-17'] \n",
        "Xt.reset_index(inplace=True)\n",
        "Xt.dtypes"
      ]
    },
    {
      "cell_type": "code",
      "execution_count": null,
      "metadata": {
        "trusted": true
      },
      "outputs": [
        {
          "ename": "<class 'NameError'>",
          "evalue": "name 'Xt' is not defined",
          "output_type": "error",
          "traceback": [
            "\u001b[0;31m---------------------------------------------------------------------------\u001b[0m",
            "\u001b[0;31mNameError\u001b[0m                                 Traceback (most recent call last)",
            "Input \u001b[0;32mIn [12]\u001b[0m, in \u001b[0;36m<cell line: 1>\u001b[0;34m()\u001b[0m\n\u001b[0;32m----> 1\u001b[0m df \u001b[38;5;241m=\u001b[39m \u001b[43mXt\u001b[49m\u001b[38;5;241m.\u001b[39mmerge(Yt_data, how \u001b[38;5;241m=\u001b[39m\u001b[38;5;124m'\u001b[39m\u001b[38;5;124mleft\u001b[39m\u001b[38;5;124m'\u001b[39m, on\u001b[38;5;241m=\u001b[39m\u001b[38;5;124m'\u001b[39m\u001b[38;5;124mDate\u001b[39m\u001b[38;5;124m'\u001b[39m)\n\u001b[1;32m      2\u001b[0m df\u001b[38;5;241m.\u001b[39mrename(columns \u001b[38;5;241m=\u001b[39m{\u001b[38;5;124m'\u001b[39m\u001b[38;5;124mValue\u001b[39m\u001b[38;5;124m'\u001b[39m:\u001b[38;5;124m'\u001b[39m\u001b[38;5;124mXt\u001b[39m\u001b[38;5;124m'\u001b[39m,\u001b[38;5;124m'\u001b[39m\u001b[38;5;124mopen\u001b[39m\u001b[38;5;124m'\u001b[39m:\u001b[38;5;124m'\u001b[39m\u001b[38;5;124mYt\u001b[39m\u001b[38;5;124m'\u001b[39m}, inplace\u001b[38;5;241m=\u001b[39m\u001b[38;5;124m'\u001b[39m\u001b[38;5;124mTrue\u001b[39m\u001b[38;5;124m'\u001b[39m)\n\u001b[1;32m      3\u001b[0m df\n",
            "\u001b[0;31mNameError\u001b[0m: name 'Xt' is not defined"
          ]
        }
      ],
      "source": [
        "df = Xt.merge(Yt_data, how ='left', on='Date')\n",
        "df.rename(columns ={'Value':'Xt','open':'Yt'}, inplace='True')\n",
        "df\n",
        "\n",
        "plt.plot(df.Xt,df.Yt,'go')"
      ]
    },
    {
      "cell_type": "code",
      "execution_count": null,
      "metadata": {
        "trusted": true
      },
      "outputs": [
        {
          "ename": "<class 'NameError'>",
          "evalue": "name 'df' is not defined",
          "output_type": "error",
          "traceback": [
            "\u001b[0;31m---------------------------------------------------------------------------\u001b[0m",
            "\u001b[0;31mNameError\u001b[0m                                 Traceback (most recent call last)",
            "Input \u001b[0;32mIn [7]\u001b[0m, in \u001b[0;36m<cell line: 1>\u001b[0;34m()\u001b[0m\n\u001b[0;32m----> 1\u001b[0m beta \u001b[38;5;241m=\u001b[39m ((np\u001b[38;5;241m.\u001b[39mmultiply(\u001b[43mdf\u001b[49m\u001b[38;5;241m.\u001b[39mYt, df\u001b[38;5;241m.\u001b[39mXt))\u001b[38;5;241m.\u001b[39mmean()\u001b[38;5;241m-\u001b[39mnp\u001b[38;5;241m.\u001b[39mmean(df\u001b[38;5;241m.\u001b[39mXt)\u001b[38;5;241m*\u001b[39mnp\u001b[38;5;241m.\u001b[39mmean(df\u001b[38;5;241m.\u001b[39mYt))\u001b[38;5;241m/\u001b[39m((np\u001b[38;5;241m.\u001b[39mmultiply(df\u001b[38;5;241m.\u001b[39mXt,df\u001b[38;5;241m.\u001b[39mXt))\u001b[38;5;241m.\u001b[39mmean()\u001b[38;5;241m-\u001b[39mnp\u001b[38;5;241m.\u001b[39mmean(df\u001b[38;5;241m.\u001b[39mXt)\u001b[38;5;241m*\u001b[39mnp\u001b[38;5;241m.\u001b[39mmean(df\u001b[38;5;241m.\u001b[39mXt))\n\u001b[1;32m      2\u001b[0m alpha \u001b[38;5;241m=\u001b[39mnp\u001b[38;5;241m.\u001b[39mmean(df\u001b[38;5;241m.\u001b[39mYt)\u001b[38;5;241m-\u001b[39mbeta\u001b[38;5;241m*\u001b[39mnp\u001b[38;5;241m.\u001b[39mmean(df\u001b[38;5;241m.\u001b[39mXt)\n\u001b[1;32m      3\u001b[0m \u001b[38;5;28mprint\u001b[39m(\u001b[38;5;124m\"\u001b[39m\u001b[38;5;124malpha =\u001b[39m\u001b[38;5;124m\"\u001b[39m,alpha, \u001b[38;5;124m\"\u001b[39m\u001b[38;5;130;01m\\n\u001b[39;00m\u001b[38;5;124mbeta =\u001b[39m\u001b[38;5;124m\"\u001b[39m,beta)\n",
            "\u001b[0;31mNameError\u001b[0m: name 'df' is not defined"
          ]
        }
      ],
      "source": [
        "beta = ((np.multiply(df.Yt, df.Xt)).mean()-np.mean(df.Xt)*np.mean(df.Yt))/((np.multiply(df.Xt,df.Xt)).mean()-np.mean(df.Xt)*np.mean(df.Xt))\n",
        "alpha =np.mean(df.Yt)-beta*np.mean(df.Xt)\n",
        "print(\"alpha =\",alpha, \"\\nbeta =\",beta)"
      ]
    },
    {
      "cell_type": "code",
      "execution_count": null,
      "metadata": {
        "trusted": true
      },
      "outputs": [
        {
          "ename": "<class 'SyntaxError'>",
          "evalue": "invalid syntax (<ipython-input-8-4c4eac8b5766>, line 5)",
          "output_type": "error",
          "traceback": [
            "\u001b[0;36m  Input \u001b[0;32mIn [8]\u001b[0;36m\u001b[0m\n\u001b[0;31m    In [ ]:\u001b[0m\n\u001b[0m         ^\u001b[0m\n\u001b[0;31mSyntaxError\u001b[0m\u001b[0;31m:\u001b[0m invalid syntax\n"
          ]
        }
      ],
      "source": [
        "type((np.multiply(df.Yt, df.Xt)))\n",
        "y_hat = alpha + np.multiply(beta,df.Xt)\n",
        "L = np.sum(np.multiply(df.Yt - y_hat,df.Yt - y_hat))\n",
        "L\n",
        "\n",
        "result = sm.ols('Yt~Xt',data=df).fit()\n",
        "print(result.summary())\n",
        "\n",
        "def  cal_cost(a,b,x,y):\n",
        "        n = len(y)\n",
        "        pred = a + np.multiply(b,x)\n",
        "        cost = (1/2*n) * np.sum(np.square(pred-y))\n",
        "        return cost"
      ]
    },
    {
      "cell_type": "code",
      "execution_count": null,
      "metadata": {
        "trusted": true
      },
      "outputs": [
        {
          "ename": "<class 'SyntaxError'>",
          "evalue": "invalid syntax (<ipython-input-9-aa978f363da9>, line 1)",
          "output_type": "error",
          "traceback": [
            "\u001b[0;36m  Input \u001b[0;32mIn [9]\u001b[0;36m\u001b[0m\n\u001b[0;31m    In [ ]:\u001b[0m\n\u001b[0m         ^\u001b[0m\n\u001b[0;31mSyntaxError\u001b[0m\u001b[0;31m:\u001b[0m invalid syntax\n"
          ]
        }
      ],
      "source": [
        "\n",
        "itr = 1000\n",
        "alpha = 2000\n",
        "n = len(df.Yt)"
      ]
    },
    {
      "cell_type": "code",
      "execution_count": null,
      "metadata": {
        "trusted": true
      },
      "outputs": [
        {
          "ename": "<class 'NameError'>",
          "evalue": "name 'itr' is not defined",
          "output_type": "error",
          "traceback": [
            "\u001b[0;31m---------------------------------------------------------------------------\u001b[0m",
            "\u001b[0;31mNameError\u001b[0m                                 Traceback (most recent call last)",
            "Input \u001b[0;32mIn [10]\u001b[0m, in \u001b[0;36m<cell line: 1>\u001b[0;34m()\u001b[0m\n\u001b[0;32m----> 1\u001b[0m loss_his \u001b[38;5;241m=\u001b[39m np\u001b[38;5;241m.\u001b[39mzeros((\u001b[43mitr\u001b[49m,\u001b[38;5;241m1\u001b[39m))\n\u001b[1;32m      2\u001b[0m alpha_his \u001b[38;5;241m=\u001b[39m np\u001b[38;5;241m.\u001b[39mzeros((itr,\u001b[38;5;241m1\u001b[39m))\n",
            "\u001b[0;31mNameError\u001b[0m: name 'itr' is not defined"
          ]
        }
      ],
      "source": [
        "loss_his = np.zeros((itr,1))\n",
        "alpha_his = np.zeros((itr,1))"
      ]
    },
    {
      "cell_type": "code",
      "execution_count": null,
      "metadata": {
        "trusted": true
      },
      "outputs": [
        {
          "ename": "<class 'NameError'>",
          "evalue": "name 'itr' is not defined",
          "output_type": "error",
          "traceback": [
            "\u001b[0;31m---------------------------------------------------------------------------\u001b[0m",
            "\u001b[0;31mNameError\u001b[0m                                 Traceback (most recent call last)",
            "Input \u001b[0;32mIn [11]\u001b[0m, in \u001b[0;36m<cell line: 1>\u001b[0;34m()\u001b[0m\n\u001b[0;32m----> 1\u001b[0m \u001b[38;5;28;01mfor\u001b[39;00m i \u001b[38;5;129;01min\u001b[39;00m \u001b[38;5;28mrange\u001b[39m(\u001b[43mitr\u001b[49m):\n\u001b[1;32m      2\u001b[0m         pred \u001b[38;5;241m=\u001b[39m alpha \u001b[38;5;241m+\u001b[39m np\u001b[38;5;241m.\u001b[39mmultiply(beta,df\u001b[38;5;241m.\u001b[39mXt)\n\u001b[1;32m      3\u001b[0m         res\u001b[38;5;241m=\u001b[39m df\u001b[38;5;241m.\u001b[39mYt\u001b[38;5;241m-\u001b[39mpred\n",
            "\u001b[0;31mNameError\u001b[0m: name 'itr' is not defined"
          ]
        }
      ],
      "source": [
        "for i in range(itr):\n",
        "        pred = alpha + np.multiply(beta,df.Xt)\n",
        "        res= df.Yt-pred\n",
        "        res_sum = sum(res)\n",
        "        gradient = -(1/n)*0.1*res_sum\n",
        " \n",
        "        alpha = alpha - gradient\n",
        "    \n",
        "        loss_his[i] = cal_cost(alpha,beta,df.Xt,df.Yt)\n",
        "        alpha_his[i] = alpha\n",
        "    \n",
        "plt.plot(alpha_his,loss_his,'go')"
      ]
    }
  ],
  "metadata": {
    "interpreter": {
      "hash": "86396bc5ec24bcd744ddb43362b466fae5f1bad5104ac36a160ddc9b7e47ebce"
    },
    "kernelspec": {
      "display_name": "Python (Pyodide)",
      "language": "python",
      "name": "python3"
    },
    "language_info": {
      "codemirror_mode": {
        "name": "ipython",
        "version": 3
      },
      "file_extension": ".py",
      "mimetype": "text/x-python",
      "name": "python",
      "nbconvert_exporter": "python",
      "pygments_lexer": "ipython3",
      "version": "3.9.7"
    }
  },
  "nbformat": 4,
  "nbformat_minor": 4
}
